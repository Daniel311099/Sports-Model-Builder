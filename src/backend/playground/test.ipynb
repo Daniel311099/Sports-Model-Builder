{
 "cells": [
  {
   "cell_type": "code",
   "execution_count": 2,
   "metadata": {},
   "outputs": [],
   "source": [
    "from enum import Enum\n",
    "from typing import Literal"
   ]
  },
  {
   "cell_type": "code",
   "execution_count": 29,
   "metadata": {},
   "outputs": [],
   "source": [
    "# class Sources(Enum):\n",
    "#     bbc_sport = 'bbc_sport1'\n",
    "#     twitter = 'twitter'\n",
    "#     def f(self):\n",
    "#         return 1\n",
    "\n",
    "Sources = Enum('sources', names=['bbc_sport', 'twitter', 'a'])\n",
    "\n",
    "Sources.bbc_sport.value\n",
    "t = filter(lambda x: x.name == 'bbc_sport', Sources)\n",
    "sources = Enum('sources2', ['bbc_sport', 'twitter'], type=str)"
   ]
  },
  {
   "cell_type": "code",
   "execution_count": 20,
   "metadata": {},
   "outputs": [
    {
     "name": "stdout",
     "output_type": "stream",
     "text": [
      "before\n",
      "test\n",
      "after\n"
     ]
    },
    {
     "data": {
      "text/plain": [
       "<function __main__.test()>"
      ]
     },
     "execution_count": 20,
     "metadata": {},
     "output_type": "execute_result"
    }
   ],
   "source": [
    "def wrap(func):\n",
    "    def wrapper(*args, **kwargs):\n",
    "        print(\"before\")\n",
    "        func(*args, **kwargs)\n",
    "        print(\"after\")\n",
    "        return 4\n",
    "    return wrapper\n",
    "@wrap\n",
    "def test():\n",
    "    print(\"test\")\n",
    "\n",
    "test2 = wrap(test)\n",
    "\n",
    "test()"
   ]
  },
  {
   "cell_type": "code",
   "execution_count": 4,
   "metadata": {},
   "outputs": [
    {
     "name": "stdout",
     "output_type": "stream",
     "text": [
      "<enum 'sources2'>\n",
      "bbc_sport\n",
      "twitter\n"
     ]
    }
   ],
   "source": [
    "print(sources)\n",
    "for source in sources:\n",
    "    print(source.name)"
   ]
  },
  {
   "cell_type": "code",
   "execution_count": 17,
   "metadata": {},
   "outputs": [
    {
     "name": "stdout",
     "output_type": "stream",
     "text": [
      "bbc_sport1 bbc_sport Sources.bbc_sport\n",
      "twitter twitter Sources.twitter\n",
      "('bbc_sport1', 'twitter')\n"
     ]
    }
   ],
   "source": [
    "for source in Sources:\n",
    "    print(source.value, source.name, source)\n",
    "a = tuple(source.value for source in Sources)\n",
    "\n",
    "print(a)"
   ]
  },
  {
   "cell_type": "code",
   "execution_count": 6,
   "metadata": {},
   "outputs": [
    {
     "ename": "KeyError",
     "evalue": "'c'",
     "output_type": "error",
     "traceback": [
      "\u001b[0;31m---------------------------------------------------------------------------\u001b[0m",
      "\u001b[0;31mKeyError\u001b[0m                                  Traceback (most recent call last)",
      "Cell \u001b[0;32mIn[6], line 5\u001b[0m\n\u001b[1;32m      3\u001b[0m t \u001b[39m=\u001b[39m TypedDict(\u001b[39m'\u001b[39m\u001b[39mt\u001b[39m\u001b[39m'\u001b[39m, {\u001b[39m'\u001b[39m\u001b[39ma\u001b[39m\u001b[39m'\u001b[39m: \u001b[39mint\u001b[39m, \u001b[39m'\u001b[39m\u001b[39mb\u001b[39m\u001b[39m'\u001b[39m: \u001b[39mint\u001b[39m})    \n\u001b[1;32m      4\u001b[0m T \u001b[39m=\u001b[39m t(a\u001b[39m=\u001b[39m\u001b[39m1\u001b[39m, b\u001b[39m=\u001b[39m\u001b[39m2\u001b[39m)\n\u001b[0;32m----> 5\u001b[0m T[\u001b[39m'\u001b[39;49m\u001b[39mc\u001b[39;49m\u001b[39m'\u001b[39;49m]\n",
      "\u001b[0;31mKeyError\u001b[0m: 'c'"
     ]
    }
   ],
   "source": [
    "from typing import TypedDict\n",
    "\n",
    "t = TypedDict('t', {'a': int, 'b': int})    \n",
    "T = t(a=1, b=2)\n",
    "T['c']"
   ]
  },
  {
   "cell_type": "code",
   "execution_count": 8,
   "metadata": {},
   "outputs": [
    {
     "name": "stdout",
     "output_type": "stream",
     "text": [
      "42\n",
      "Hello, world!\n"
     ]
    }
   ],
   "source": [
    "from typing import TypedDict, TypeVar, Type, Generic, Callable\n",
    "\n",
    "T = TypeVar(\"T\")\n",
    "s_ = ('bbc_sport', 'twitter')\n",
    "class Sources(Generic[T]):\n",
    "    # bbc_sport: Type[T]\n",
    "    # twitter: Type[T]\n",
    "    def __init__(\n",
    "        self,\n",
    "        bbc_sport: T,\n",
    "        twitter: T,\n",
    "    ):\n",
    "        self.bbc_sport = bbc_sport\n",
    "        self.twitter = twitter\n",
    "# Define your TypedDict with specific key-value types\n",
    "def build_custom_typed_dict(value_type: Type[T]) -> Type[Sources[T]]:\n",
    "    return Sources[value_type]\n",
    "\n",
    "t = Callable[[int], int]\n",
    "\n",
    "resT = build_custom_typed_dict(t)\n",
    "res = resT(\n",
    "    bbc_sport=lambda x: x + 1,\n",
    "    twitter=lambda x: x + 2,\n",
    ")\n",
    "\n",
    "\n",
    "# Usage example\n",
    "custom_dict: CustomTypedDict = {}\n",
    "custom_dict[\"key1\"] = 42  # Adding a key-value pair\n",
    "custom_dict[\"key2\"] = \"Hello, world!\"\n",
    "print(custom_dict[\"key1\"])  # Output: 42\n",
    "print(custom_dict[\"key2\"])  # Output: Hello, world!\n"
   ]
  },
  {
   "cell_type": "code",
   "execution_count": 7,
   "metadata": {},
   "outputs": [
    {
     "name": "stdout",
     "output_type": "stream",
     "text": [
      "{'key1': 42, 'key2': 42, 'key3': 42}\n"
     ]
    }
   ],
   "source": [
    "from typing import TypeVar, Generic\n",
    "\n",
    "# Define a generic type variable for the value type\n",
    "T = TypeVar('T')\n",
    "\n",
    "# Custom class representing a fixed key dictionary with a generic value type\n",
    "class FixedKeyDict(Generic[T]):\n",
    "    def __init__(self, key1: T, key2: T, key3: T):\n",
    "        self.key1 = key1\n",
    "        self.key2 = key2\n",
    "        self.key3 = key3\n",
    "\n",
    "# Function that creates a FixedKeyDict with a generic value type\n",
    "def build_fixed_key_dict(value: T) -> FixedKeyDict[T]:\n",
    "    my_dict = FixedKeyDict(value, value, value)\n",
    "    return my_dict\n",
    "\n",
    "# Usage example\n",
    "value = 42\n",
    "\n",
    "result_dict = build_fixed_key_dict(value)\n",
    "print(result_dict.key1)  # Output: 42\n",
    "print(result_dict.key2)  # Output: 42\n",
    "print(result_dict.key3)  # Output: 42\n"
   ]
  },
  {
   "cell_type": "code",
   "execution_count": null,
   "metadata": {},
   "outputs": [],
   "source": [
    "class S(TypedDict, Generic[T]):\n",
    "    a: T\n",
    "    b: T\n",
    "\n",
    "def f(t: Type[T]) -> Type[S[T]]:\n",
    "    return S[t]\n",
    "\n",
    "class r(f(int)):\n",
    "    pass\n",
    "a: r = {'a': 1, 'b': 2}"
   ]
  },
  {
   "cell_type": "code",
   "execution_count": null,
   "metadata": {},
   "outputs": [],
   "source": [
    "from typing import Type, Literal\n",
    "\n",
    "# Define a sample class\n",
    "class MyClass:\n",
    "    attribute1: int\n",
    "    attribute2: str\n",
    "    attribute3: bool\n",
    "\n",
    "# Function to infer a Literal type from the class attributes\n",
    "def infer_literal_type(cls: Type) -> Literal[tuple(cls.__annotations__.keys())]:\n",
    "    attributes = tuple(cls.__annotations__.keys())\n",
    "    return Literal[attributes]\n",
    "\n",
    "# Usage example\n",
    "MyLiteralType = infer_literal_type(MyClass)\n",
    "print(MyLiteralType)  # Output: Literal['attribute1', 'attribute2', 'attribute3']\n"
   ]
  }
 ],
 "metadata": {
  "kernelspec": {
   "display_name": "env_smb_pi",
   "language": "python",
   "name": "python3"
  },
  "language_info": {
   "codemirror_mode": {
    "name": "ipython",
    "version": 3
   },
   "file_extension": ".py",
   "mimetype": "text/x-python",
   "name": "python",
   "nbconvert_exporter": "python",
   "pygments_lexer": "ipython3",
   "version": "3.10.12"
  },
  "orig_nbformat": 4
 },
 "nbformat": 4,
 "nbformat_minor": 2
}
